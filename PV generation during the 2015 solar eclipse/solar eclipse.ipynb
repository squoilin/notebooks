{
 "metadata": {
  "name": ""
 },
 "nbformat": 3,
 "nbformat_minor": 0,
 "worksheets": [
  {
   "cells": [
    {
     "cell_type": "code",
     "collapsed": false,
     "input": [
      "import pandas as pd\n",
      "import matplotlib.pyplot as plt\n",
      "%matplotlib\n",
      "\n"
     ],
     "language": "python",
     "metadata": {},
     "outputs": [
      {
       "output_type": "stream",
       "stream": "stdout",
       "text": [
        "Using matplotlib backend: TkAgg\n"
       ]
      }
     ],
     "prompt_number": 55
    },
    {
     "cell_type": "code",
     "collapsed": false,
     "input": [
      "data = pd.read_excel('data_germany_eclipse.xls','Sheet1')"
     ],
     "language": "python",
     "metadata": {},
     "outputs": [],
     "prompt_number": 53
    },
    {
     "cell_type": "code",
     "collapsed": false,
     "input": [
      "import numpy as np\n",
      "np.arange(20,60)"
     ],
     "language": "python",
     "metadata": {},
     "outputs": [
      {
       "metadata": {},
       "output_type": "pyout",
       "prompt_number": 95,
       "text": [
        "array([20, 21, 22, 23, 24, 25, 26, 27, 28, 29, 30, 31, 32, 33, 34, 35, 36,\n",
        "       37, 38, 39, 40, 41, 42, 43, 44, 45, 46, 47, 48, 49, 50, 51, 52, 53,\n",
        "       54, 55, 56, 57, 58, 59])"
       ]
      }
     ],
     "prompt_number": 95
    },
    {
     "cell_type": "code",
     "collapsed": false,
     "input": [
      "data[20:80].plot(linewidth=2,color=['y','b','r','g','k'])\n",
      "plt.title('Day-ahead forecasted solar power in Germany (20/3/2015)')\n",
      "plt.ylabel('Power (MW)')\n",
      "plt.annotate ('', (22, 22000), (22, 7000), arrowprops={'arrowstyle':'<->'})\n",
      "plt.annotate ('', (22, 22000), (27, 22000), arrowprops={'arrowstyle':'<->'})\n",
      "plt.text(15,17000,'15 GW')\n",
      "plt.text(22,23000,'1 hour')\n",
      "plt.fill_between(np.arange(0,60),data['Total'][20:80].values,alpha=0.2,color='g')\n",
      "\n",
      "plt.xlabel(\"\\nData source: TSO transpareny platforms | \"  \n",
      "        \"Author: S. Quoilin (University of Liege)\", fontsize=10) \n",
      "  \n",
      "plt.savefig(\"fig.png\", bbox_inches=\"tight\"); "
     ],
     "language": "python",
     "metadata": {},
     "outputs": [],
     "prompt_number": 105
    },
    {
     "cell_type": "code",
     "collapsed": false,
     "input": [],
     "language": "python",
     "metadata": {},
     "outputs": []
    }
   ],
   "metadata": {}
  }
 ]
}