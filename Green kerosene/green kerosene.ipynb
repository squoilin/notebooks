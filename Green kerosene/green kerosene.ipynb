{
 "cells": [
  {
   "cell_type": "markdown",
   "metadata": {},
   "source": [
    "# Green Kerosene"
   ]
  },
  {
   "cell_type": "markdown",
   "metadata": {},
   "source": [
    "This notebook evaluates the requirements linked to the Power-to-liquid conversion pathway using direct air capture"
   ]
  },
  {
   "cell_type": "markdown",
   "metadata": {},
   "source": [
    "## Direct air capture"
   ]
  },
  {
   "cell_type": "markdown",
   "metadata": {},
   "source": [
    "The minimum work to provide to extract CO2 from the air is equal to the Gibbs free energy of mixing. \n",
    "\n",
    "We assume ideal gases, which is acceptable for air mixtures\n",
    "\n",
    "In the entropy of mixture, only CO2 is considered since the volume of air does not change much in relative terms\n",
    "\n"
   ]
  },
  {
   "cell_type": "code",
   "execution_count": 21,
   "metadata": {},
   "outputs": [
    {
     "name": "stdout",
     "output_type": "stream",
     "text": [
      "Energy required to extract one ton of CO2: 0.11870413823694072 MWh/ton\n",
      "Power generation of a CCGT unit for one ton of CO2: 2.2222222222222223 MWh/ton\n"
     ]
    }
   ],
   "source": [
    "import numpy as np\n",
    "\n",
    "x_co2 = 410/1E6     # assuming 410 ppm\n",
    "R = 8314           # ideal gas constant (j/K/kmol)\n",
    "MM_co2 = 16 + 16 + 14   # Molarmass of CO2 (kg/kmol)\n",
    "\n",
    "# For on kg of CO2:\n",
    "n_co2 = 1/MM_co2\n",
    "\n",
    "DELTA_s_mix = - n_co2 * R * np.log(x_co2)\n",
    "\n",
    "# Asuuming ambient temperature:\n",
    "T = 273.15 + 30\n",
    "w_mix = T * DELTA_s_mix\n",
    "\n",
    "# Energy for one ton of CO2, in MWh:\n",
    "E_co2_MWh = w_mix * 1000 / 3.6E9\n",
    "print('Energy required to extract one ton of CO2: ' + str(E_co2_MWh) + ' MWh/ton')\n",
    "\n",
    "print('Power generation of a CCGT unit for one ton of CO2: ' + str(1/0.450) + ' MWh/ton')"
   ]
  },
  {
   "cell_type": "code",
   "execution_count": 29,
   "metadata": {},
   "outputs": [
    {
     "data": {
      "text/plain": [
       "0.001426179766059269"
      ]
     },
     "execution_count": 29,
     "metadata": {},
     "output_type": "execute_result"
    }
   ],
   "source": [
    "x = 400e-6\n",
    "\n",
    "- x * np.log(x)\n",
    "\n",
    "- x * np.log(x) + x/2 * np.log(x/2)\n"
   ]
  },
  {
   "cell_type": "markdown",
   "metadata": {},
   "source": [
    "References\n",
    "- https://www.ncbi.nlm.nih.gov/pmc/articles/PMC3251141/\n",
    "- https://www.sciencedirect.com/science/article/pii/S0959652619307772\n"
   ]
  },
  {
   "cell_type": "code",
   "execution_count": null,
   "metadata": {},
   "outputs": [],
   "source": []
  }
 ],
 "metadata": {
  "kernelspec": {
   "display_name": "Python 3",
   "language": "python",
   "name": "python3"
  },
  "language_info": {
   "codemirror_mode": {
    "name": "ipython",
    "version": 3
   },
   "file_extension": ".py",
   "mimetype": "text/x-python",
   "name": "python",
   "nbconvert_exporter": "python",
   "pygments_lexer": "ipython3",
   "version": "3.7.3"
  }
 },
 "nbformat": 4,
 "nbformat_minor": 4
}
